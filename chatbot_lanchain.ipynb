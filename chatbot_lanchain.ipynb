{
 "cells": [
  {
   "cell_type": "code",
   "execution_count": 43,
   "metadata": {},
   "outputs": [],
   "source": [
    "from langchain_community.llms import Ollama\n",
    "from langchain.schema import HumanMessage, SystemMessage, AIMessage, BaseOutputParser\n",
    "from langchain_community.chat_models import  ChatOllama\n",
    "from langchain.prompts import  PromptTemplate \n",
    "from langchain.prompts.chat import ChatPromptTemplate\n",
    "from langchain.chains import LLMChain, SimpleSequentialChain, SequentialChain"
   ]
  },
  {
   "cell_type": "code",
   "execution_count": 14,
   "metadata": {},
   "outputs": [],
   "source": [
    "llm = Ollama(model=\"gemma:2b\")"
   ]
  },
  {
   "cell_type": "code",
   "execution_count": 6,
   "metadata": {},
   "outputs": [
    {
     "data": {
      "text/plain": [
       "'AGI stands for Artificial General Intelligence. It is the hypothetical future intelligence of machines that could perform tasks that currently require human intelligence, such as learning, problem-solving, and critical thinking.'"
      ]
     },
     "execution_count": 6,
     "metadata": {},
     "output_type": "execute_result"
    }
   ],
   "source": [
    "text = \"What is AGI? in 30 words\"\n",
    "llm.invoke(text)"
   ]
  },
  {
   "cell_type": "markdown",
   "metadata": {},
   "source": [
    "#### Prompt Template"
   ]
  },
  {
   "cell_type": "code",
   "execution_count": 18,
   "metadata": {},
   "outputs": [
    {
     "data": {
      "text/plain": [
       "'which Artificial Intelligence domain is going to replaced by AI agents in IT job industry in future?'"
      ]
     },
     "execution_count": 18,
     "metadata": {},
     "output_type": "execute_result"
    }
   ],
   "source": [
    "prompt_template = PromptTemplate(\n",
    "    input_variables=[\"Domain\"],\n",
    "    template=\"which {Domain} domain is going to replaced by AI agents in IT job industry in future?\"\n",
    ")\n",
    "prompt_template.format(Domain = \"Artificial Intelligence\")"
   ]
  },
  {
   "cell_type": "markdown",
   "metadata": {},
   "source": [
    "#### LLMChain"
   ]
  },
  {
   "cell_type": "code",
   "execution_count": 19,
   "metadata": {},
   "outputs": [
    {
     "name": "stdout",
     "output_type": "stream",
     "text": [
      "Several Artificial Intelligence (AI) domains are poised to be replaced by AI agents in the IT job industry in the future:\n",
      "\n",
      "**1. Infrastructure Automation:**\n",
      "\n",
      "* AI agents will automate repetitive and mundane tasks such as server management, network monitoring, and infrastructure provisioning.\n",
      "* This will free up IT professionals to focus on strategic tasks like security, application development, and problem-solving.\n",
      "\n",
      "**2. Security and Risk Management:**\n",
      "\n",
      "* AI agents will analyze vast amounts of security data to identify suspicious patterns and anomalies, helping to prevent security breaches.\n",
      "* They will also automate incident response and remediation, reducing human error and response time.\n",
      "\n",
      "**3. Application Management:**\n",
      "\n",
      "* AI agents will manage software applications and ensure they are functioning correctly and up-to-date.\n",
      "* This will improve application uptime and productivity, while reducing the need for human support.\n",
      "\n",
      "**4. Data Center Operations:**\n",
      "\n",
      "* AI agents will monitor and control data center infrastructure, ensuring optimal performance and resource utilization.\n",
      "* This will improve data center efficiency and reduce operational costs.\n",
      "\n",
      "**5. Software Development:**\n",
      "\n",
      "* AI agents will assist with code generation, testing, and debugging, freeing up developers to focus on more creative and strategic tasks.\n",
      "* They can also be used to create personalized learning experiences and provide real-time feedback.\n",
      "\n",
      "**6. Customer Support:**\n",
      "\n",
      "* AI agents will handle routine customer inquiries and requests, providing automated responses and resolving issues promptly.\n",
      "* This will improve customer satisfaction and reduce the workload on human support staff.\n",
      "\n",
      "**7. Project Management:**\n",
      "\n",
      "* AI agents will analyze project data and provide insights to help project managers make informed decisions.\n",
      "* This will improve project planning, execution, and monitoring.\n",
      "\n",
      "**8. Cybersecurity:**\n",
      "\n",
      "* AI agents will detect and respond to cyber threats in real-time, providing proactive defense against attacks.\n",
      "* They can also be used to analyze and understand attacker behavior to develop more effective security strategies.\n",
      "\n",
      "**9. Data Analysis and Business Intelligence:**\n",
      "\n",
      "* AI agents will analyze vast amounts of data to identify trends and patterns, enabling businesses to make data-driven decisions.\n",
      "* This will free up data analysts and business intelligence professionals to focus on more strategic tasks.\n",
      "\n",
      "**10. User Experience (UX):**\n",
      "\n",
      "* AI agents will personalize the user experience by tailoring content and recommendations to individual preferences.\n",
      "* This will improve user satisfaction and engagement.\n",
      "\n",
      "These are just a few examples of how AI agents are poised to replace certain IT jobs in the future. As AI technology continues to advance, it is likely that even more jobs will be automated, leading to significant changes in the IT industry landscape.\n"
     ]
    }
   ],
   "source": [
    "chain = LLMChain(llm=llm, prompt=prompt_template)\n",
    "print(chain.run(\"Artificial Intelligence\"))"
   ]
  },
  {
   "cell_type": "markdown",
   "metadata": {},
   "source": [
    "#### Simple Sequential Chain"
   ]
  },
  {
   "cell_type": "code",
   "execution_count": 27,
   "metadata": {},
   "outputs": [],
   "source": [
    "prompt_template1 = PromptTemplate(\n",
    "    input_variables=[\"Domain\"],\n",
    "    template=\"Is classical {Domain} domain is going to replaced by AI agents in IT job industry in future?\"\n",
    ")\n",
    "chain1 = LLMChain(llm=llm, prompt=prompt_template1)\n",
    "\n",
    "prompt_template2 = PromptTemplate(\n",
    "    input_variables=[\"Domain\"],\n",
    "    template=\" which domain in {Domain} going to replaced by AI agents in IT job industry in future?\"\n",
    ")\n",
    "chain2 = LLMChain(llm=llm, prompt=prompt_template2)"
   ]
  },
  {
   "cell_type": "code",
   "execution_count": 29,
   "metadata": {},
   "outputs": [
    {
     "name": "stdout",
     "output_type": "stream",
     "text": [
      "## Domain of discussion and debate:\n",
      "\n",
      "The domain of discussion and debate surrounding AI agents replacing human experts in the IT job industry is broad and complex. Some key areas of contention include:\n",
      "\n",
      "* **Impact on routine and repetitive tasks:** Some experts argue that AI agents will replace tasks such as data entry, customer support chatbots, and infrastructure monitoring, freeing up human workers to focus on more strategic and creative tasks.\n",
      "* **AI's limitations:** Others argue that AI agents are not yet capable of handling tasks requiring critical thinking, problem-solving, and creativity. They point out that AI agents are trained on specific datasets and may struggle with complex systems and unstructured or incomplete data.\n",
      "* **Future of the IT job industry:** The future of the IT job industry will likely involve a hybrid approach where humans and AI work together. This implies that the skills and abilities that will be most valuable in the future workforce will vary depending on the industry.\n",
      "* **Training and education:** It is crucial to invest in training and education programs to prepare workers for the jobs of the future. This includes providing individuals with the necessary skills to adapt to a changing technological landscape.\n",
      "\n",
      "## Key points to consider:\n",
      "\n",
      "* AI will likely have a significant impact on the IT job industry, but it is unlikely to completely replace human experts.\n",
      "* The specific skills and abilities that will be most valuable in the future workforce will likely vary depending on the industry.\n",
      "* It is important to invest in training and education programs to prepare workers for the jobs of the future.\n",
      "* A balanced and collaborative approach will likely be the most successful outcome for the IT job industry.\n"
     ]
    }
   ],
   "source": [
    "master_chain = SimpleSequentialChain(chains=[chain1, chain2])\n",
    "print(master_chain.run(\"Machine Learning\"))"
   ]
  },
  {
   "cell_type": "markdown",
   "metadata": {},
   "source": [
    "#### Sequential Chain"
   ]
  },
  {
   "cell_type": "code",
   "execution_count": 30,
   "metadata": {},
   "outputs": [],
   "source": [
    "prompt_template1 = PromptTemplate(\n",
    "    input_variables=[\"Domain\"],\n",
    "    template=\"Is classical {Domain} domain is going to replaced by AI agents in IT job industry in future?\"\n",
    ")\n",
    "chain3 = LLMChain(llm=llm, prompt=prompt_template1,output_key=\"classical M.L\")\n",
    "\n",
    "prompt_template2 = PromptTemplate(\n",
    "    input_variables=[\"Domain\"],\n",
    "    template=\" which domain in {Domain} going to replaced by AI agents in IT job industry in future?\"\n",
    ")\n",
    "chain4 = LLMChain(llm=llm, prompt=prompt_template2,output_key=\"Deep Learning\")"
   ]
  },
  {
   "cell_type": "code",
   "execution_count": 33,
   "metadata": {},
   "outputs": [
    {
     "name": "stdout",
     "output_type": "stream",
     "text": [
      "{'Domain': 'Machine Learning', 'classical M.L': \"Whether classical machine learning (ML) will be replaced by AI agents in the IT job industry in the future is a complex and uncertain question. Here's a breakdown of the potential impact:\\n\\n**Potential Impact:**\\n\\n* **Replacement:** ML algorithms can automate many tasks currently performed by IT professionals, such as data analysis, pattern recognition, and feature engineering. This could potentially lead to job losses in specific areas of IT, such as data scientists, analysts, and IT support technicians.\\n* **Augmentation:** AI agents can complement human capabilities by providing faster and more efficient solutions to complex problems. This could lead to a shift towards IT professionals focusing on more strategic and creative tasks, such as problem-solving, critical thinking, and creativity.\\n\\n**Current Trends:**\\n\\n* AI is already being used in various IT applications, including automation, data analytics, and customer service.\\n* Companies are investing heavily in AI talent and training to prepare their workforce for the future of IT.\\n* Some IT professionals are already working alongside AI agents, demonstrating the potential for seamless integration of these two technologies.\\n\\n**Challenges:**\\n\\n* **Data bias:** AI agents trained on biased data can perpetuate and amplify existing biases in the IT industry.\\n* **Lack of human creativity:** AI cannot replace human creativity and critical thinking skills.\\n* **Ethical considerations:** AI agents can have unintended consequences, such as bias or discrimination.\\n\\n**Conclusion:**\\n\\nThe future of IT job industry will be shaped by both automation and augmentation. While AI agents may replace some jobs, they will also create new opportunities in areas such as AI development, data ethics, and human-computer interaction. It will be important for IT professionals to stay updated on the latest trends and skills required for success in the future of IT.\\n\\n**Additional Considerations:**\\n\\n* The pace of AI adoption in IT is uncertain and could depend on various factors, including economic conditions, government policies, and public perception.\\n* The impact of AI on the IT job industry is likely to be gradual and nuanced, rather than immediate and complete.\\n* The future of IT will likely involve a hybrid approach to IT development, where both classical ML and AI are used to achieve optimal results.\", 'Deep Learning': 'Sure, here are the domains in Machine Learning going to be replaced by AI agents in IT job industry in the future:\\n\\n**1. Software Development:**\\n\\n* AI agents will automate code generation, debugging, and testing, reducing the need for human developers.\\n* They can also create new software solutions and products faster and more efficiently.\\n\\n**2. Data Science and Analytics:**\\n\\n* AI agents will handle large and complex data sets, enabling faster and more accurate data analysis.\\n* They can identify patterns and insights that would be difficult for humans to detect.\\n\\n**3. Customer Support:**\\n\\n* AI chatbots and virtual assistants will provide instant and personalized support to users, freeing up human IT support staff to focus on more complex issues.\\n* Chatbots can handle simple queries and provide basic troubleshooting, reducing wait times and improving customer satisfaction.\\n\\n**4. Network Management:**\\n\\n* AI agents can monitor and manage IT infrastructure, identifying potential issues and proactively taking steps to prevent them.\\n* They can also optimize network performance and security.\\n\\n**5. Security:**\\n\\n* AI agents can analyze and detect malicious activity, such as phishing attacks and malware infections.\\n* They can also automate security monitoring and incident response.\\n\\n**6. Maintenance and Support:**\\n\\n* AI agents can diagnose and resolve IT issues without human intervention, reducing downtime and maintenance costs.\\n* They can also provide proactive maintenance recommendations.\\n\\n**7. Content Creation:**\\n\\n* AI agents can generate new content, such as articles, videos, and marketing materials.\\n* They can also translate text and provide language translation.\\n\\n**8. Education and Training:**\\n\\n* AI agents can provide personalized learning experiences and automate the delivery of educational content.\\n* They can also offer real-time feedback and tutoring.\\n\\n**9. Research and Development:**\\n\\n* AI agents can assist with research and development tasks by identifying promising new ideas and conducting simulations.\\n* They can also analyze and interpret data to gain insights from complex experiments.\\n\\n**10. Project Management:**\\n\\n* AI agents can automate project planning, scheduling, and resource management.\\n* They can also track project progress and identify potential issues.\\n\\nIt is important to note that AI agents will not replace human IT professionals but rather complement their skills and capabilities. They will enable humans to focus on more complex and creative tasks, allowing them to contribute to the IT industry in new and exciting ways.'}\n"
     ]
    }
   ],
   "source": [
    "chain = SequentialChain(chains=[chain3, chain4],\n",
    "                        input_variables=[\"Domain\"],\n",
    "                        output_variables=[\"classical M.L\", \"Deep Learning\"]\n",
    "                        )\n",
    "print(chain({\"Domain\":\"Machine Learning\"}))"
   ]
  },
  {
   "cell_type": "markdown",
   "metadata": {},
   "source": [
    "### ChatModels with ChatOllama"
   ]
  },
  {
   "cell_type": "code",
   "execution_count": 42,
   "metadata": {},
   "outputs": [
    {
     "name": "stderr",
     "output_type": "stream",
     "text": [
      "c:\\Users\\virch\\AppData\\Local\\Programs\\Python\\Python312\\Lib\\site-packages\\langchain_core\\_api\\deprecation.py:119: LangChainDeprecationWarning: The method `BaseChatModel.__call__` was deprecated in langchain-core 0.1.7 and will be removed in 0.3.0. Use invoke instead.\n",
      "  warn_deprecated(\n"
     ]
    },
    {
     "data": {
      "text/plain": [
       "AIMessage(content='', response_metadata={'model': 'gemma:2b', 'created_at': '2024-05-23T06:58:14.3595429Z', 'message': {'role': 'assistant', 'content': ''}, 'done_reason': 'stop', 'done': True, 'total_duration': 3560160000, 'load_duration': 28461100, 'prompt_eval_count': 71, 'prompt_eval_duration': 3512745000, 'eval_count': 1, 'eval_duration': 125000}, id='run-9a94666e-3be9-40f7-9553-bf70c8c5bd6a-0')"
      ]
     },
     "execution_count": 42,
     "metadata": {},
     "output_type": "execute_result"
    }
   ],
   "source": [
    "chat_with_llm = ChatOllama(model=\"gemma:2b\",temperature= 0.6)\n",
    "\n",
    "chat_with_llm([\n",
    "    HumanMessage(content = \"What is AGI? in 30 words\"),\n",
    "    SystemMessage(content = \"AGI is the intelligence of a machine that could successfully perform any intellectual task that a human being can do.\"),\n",
    "    AIMessage(content = \"AGI is the intelligence of a machine that could successfully perform any intellectual task that a human being can do.\")\n",
    "])"
   ]
  },
  {
   "cell_type": "code",
   "execution_count": 52,
   "metadata": {},
   "outputs": [],
   "source": [
    "class parser(BaseOutputParser):\n",
    "    def parse(self, output):\n",
    "        return output.strip().split(\"\\n\")"
   ]
  },
  {
   "cell_type": "code",
   "execution_count": 53,
   "metadata": {},
   "outputs": [],
   "source": [
    "\n",
    "template=\"Your Name is Jarvis, a helpful assistant. When the user given any input , you should generate 5 best character of  marvel movies in a comma seperated list\"\n",
    "human_template=\"{text}\"\n",
    "chatprompt=ChatPromptTemplate.from_messages([\n",
    "    (\"system\",template),\n",
    "    (\"human\",human_template)\n",
    "])"
   ]
  },
  {
   "cell_type": "code",
   "execution_count": 54,
   "metadata": {},
   "outputs": [],
   "source": [
    "chain=chatprompt|chat_with_llm|parser()"
   ]
  },
  {
   "cell_type": "code",
   "execution_count": 55,
   "metadata": {},
   "outputs": [
    {
     "name": "stdout",
     "output_type": "stream",
     "text": [
      "['Sure, here are 5 best character names from Marvel movies:', '', '1. Captain America', '2. Iron Man', '3. Spider-Man', '4. Black Widow', '5. Thor']\n"
     ]
    }
   ],
   "source": [
    "print(chain.invoke({\"text\": \"generative ai\"}))"
   ]
  }
 ],
 "metadata": {
  "kernelspec": {
   "display_name": "Python 3",
   "language": "python",
   "name": "python3"
  },
  "language_info": {
   "codemirror_mode": {
    "name": "ipython",
    "version": 3
   },
   "file_extension": ".py",
   "mimetype": "text/x-python",
   "name": "python",
   "nbconvert_exporter": "python",
   "pygments_lexer": "ipython3",
   "version": "3.12.1"
  }
 },
 "nbformat": 4,
 "nbformat_minor": 2
}
